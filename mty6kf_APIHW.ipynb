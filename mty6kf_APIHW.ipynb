{
  "nbformat": 4,
  "nbformat_minor": 0,
  "metadata": {
    "colab": {
      "provenance": []
    },
    "kernelspec": {
      "name": "python3",
      "display_name": "Python 3"
    },
    "language_info": {
      "name": "python"
    }
  },
  "cells": [
    {
      "cell_type": "code",
      "source": [
        "#API key has been taken out of code\n",
        "import pandas as pd\n",
        "import json\n",
        "import requests"
      ],
      "metadata": {
        "id": "lVy7g983LyL1"
      },
      "execution_count": 1,
      "outputs": []
    },
    {
      "cell_type": "code",
      "source": [
        "def get_stock_info(stock, apikey=''):\n",
        "  url = \"https://yfapi.net/v6/finance/quote\"\n",
        "  querystring = {\"symbols\": stock}\n",
        "  headers = {'x-api-key': apikey}\n",
        "  response = requests.request(\"GET\", url, headers=headers, params=querystring)\n",
        "\n",
        "  url2 = \"https://yfapi.net/v11/finance/quoteSummary/\" + stock + \"?modules=financialData\"\n",
        "  response2 = requests.request(\"GET\", url2, headers=headers, params=querystring)\n",
        "\n",
        "  stock_json = response.json()\n",
        "  stock2_json = response2.json()\n",
        "\n",
        "  try:\n",
        "    print(\"Ticker:\", stock)\n",
        "    full_name = stock_json['quoteResponse']['result'][0][\"longName\"]\n",
        "    print(\"Full Name:\", full_name)\n",
        "    current_price = stock_json['quoteResponse']['result'][0][\"regularMarketPrice\"]\n",
        "    print(\"Current Market Price: $\", current_price)\n",
        "\n",
        "    if 'quoteSummary' in stock2_json and 'result' in stock2_json['quoteSummary'] and stock2_json['quoteSummary']['result']:\n",
        "       target_mean_price = stock2_json['quoteSummary']['result'][0]['financialData']['targetMeanPrice']['raw']\n",
        "       print(\"Target Mean Price:\", target_mean_price)\n",
        "    else:\n",
        "       print(\"Target Mean Price: Not Found\")\n",
        "\n",
        "    week52_high = stock_json['quoteResponse']['result'][0]['fiftyTwoWeekHigh']\n",
        "    print(\"52 Week High: $\", week52_high)\n",
        "    week52_low = stock_json['quoteResponse']['result'][0]['fiftyTwoWeekLow']\n",
        "    print(\"52 Week Low: $\", week52_low)\n",
        "\n",
        "  except KeyError:\n",
        "    print(\"Error: Could not retrieve stock information. Please check the stock try again.\")"
      ],
      "metadata": {
        "id": "hSHpJhqyKaFh"
      },
      "execution_count": 2,
      "outputs": []
    },
    {
      "cell_type": "code",
      "source": [
        "#User input for stock\n",
        "user_stock=input()\n",
        "print(get_stock_info(user_stock))"
      ],
      "metadata": {
        "colab": {
          "base_uri": "https://localhost:8080/"
        },
        "id": "HzmWzg3UKg_P",
        "outputId": "e3380b43-5540-42b1-b9e5-ac7bf9c4f049"
      },
      "execution_count": 3,
      "outputs": [
        {
          "output_type": "stream",
          "name": "stdout",
          "text": [
            "AAPL\n",
            "Ticker: AAPL\n",
            "Full Name: Apple Inc.\n",
            "Current Market Price: $ 227.725\n",
            "Target Mean Price: 240.58\n",
            "52 Week High: $ 237.23\n",
            "52 Week Low: $ 164.08\n",
            "None\n"
          ]
        }
      ]
    },
    {
      "cell_type": "code",
      "source": [
        "#Output 5 of the current trending stocks\n",
        "def get_trending_stocks(apikey='', num_stocks=5):\n",
        "  url = \"https://yfapi.net/v1/finance/trending/US\"\n",
        "  headers = {'x-api-key': apikey}\n",
        "  response = requests.request(\"GET\", url, headers=headers)\n",
        "  stock_json = response.json()\n",
        "  count = 0\n",
        "  for stock_data in stock_json['finance']['result'][0]['quotes']:\n",
        "    if count < num_stocks:\n",
        "      print(stock_data['symbol'])\n",
        "      get_stock_info(stock_data['symbol'])\n",
        "      count += 1\n",
        "    else:\n",
        "      break\n",
        "\n",
        "print(get_trending_stocks())"
      ],
      "metadata": {
        "colab": {
          "base_uri": "https://localhost:8080/"
        },
        "id": "yD0zLw87LM4E",
        "outputId": "f8826801-e12b-4063-8268-eb09d9ecbc26"
      },
      "execution_count": 4,
      "outputs": [
        {
          "output_type": "stream",
          "name": "stdout",
          "text": [
            "AMSC\n",
            "Ticker: AMSC\n",
            "Full Name: American Superconductor Corporation\n",
            "Current Market Price: $ 22.98\n",
            "Target Mean Price: 30.33\n",
            "52 Week High: $ 32.7\n",
            "52 Week Low: $ 5.78\n",
            "XRP-USD\n",
            "Ticker: XRP-USD\n",
            "Full Name: XRP USD\n",
            "Current Market Price: $ 0.6527616\n",
            "Target Mean Price: Not Found\n",
            "52 Week High: $ 0.742126\n",
            "52 Week Low: $ 0.391139\n",
            "RACE\n",
            "Ticker: RACE\n",
            "Full Name: Ferrari N.V.\n",
            "Current Market Price: $ 471.68\n",
            "Target Mean Price: 485.69\n",
            "52 Week High: $ 498.23\n",
            "52 Week Low: $ 293.49\n",
            "PWR\n",
            "Ticker: PWR\n",
            "Full Name: Quanta Services, Inc.\n",
            "Current Market Price: $ 296.74\n",
            "Target Mean Price: 292.35\n",
            "52 Week High: $ 306.5\n",
            "52 Week Low: $ 153.74\n",
            "BBD\n",
            "Ticker: BBD\n",
            "Full Name: Banco Bradesco S.A.\n",
            "Current Market Price: $ 2.71\n",
            "Target Mean Price: 3.38\n",
            "52 Week High: $ 3.65\n",
            "52 Week Low: $ 2.16\n",
            "None\n"
          ]
        }
      ]
    },
    {
      "cell_type": "code",
      "source": [
        "stock_data_list = []\n",
        "\n",
        "# Function to fetch stock info and add it to a list\n",
        "def fetch_stock_data(stock, apikey=''):\n",
        "    url = \"https://yfapi.net/v6/finance/quote\"\n",
        "    headers = {'x-api-key': apikey}\n",
        "    querystring = {\"symbols\": stock}\n",
        "\n",
        "    # Make the API request for basic stock info\n",
        "    response = requests.get(url, headers=headers, params=querystring)\n",
        "    stock_json = response.json()\n",
        "\n",
        "    if not stock_json['quoteResponse']['result']:\n",
        "        print(f\"Error: Stock {stock} not found.\")\n",
        "        return None\n",
        "\n",
        "    # Extract relevant stock info\n",
        "    stock_info = stock_json['quoteResponse']['result'][0]\n",
        "    stock_data = {\n",
        "        \"Ticker\": stock_info.get(\"symbol\"),\n",
        "        \"Full Name\": stock_info.get(\"longName\"),\n",
        "        \"Current Price\": stock_info.get(\"regularMarketPrice\"),\n",
        "        \"52 Week High\": stock_info.get(\"fiftyTwoWeekHigh\"),\n",
        "        \"52 Week Low\": stock_info.get(\"fiftyTwoWeekLow\")\n",
        "    }\n",
        "\n",
        "    # Append stock data to global list\n",
        "    stock_data_list.append(stock_data)\n",
        "\n",
        "def save_to_csv():\n",
        "    # Convert the list of stock data to a DataFrame\n",
        "    df = pd.DataFrame(stock_data_list)\n",
        "\n",
        "    # Save the DataFrame to CSV\n",
        "    df.to_csv('stock_data.csv', index=False)\n",
        "    print(\"Data saved to stock_data.csv\")\n",
        "\n",
        "# Function to get and display 5 trending stocks\n",
        "def get_trending_stocks(apikey='', num_stocks=5):\n",
        "    url = \"https://yfapi.net/v1/finance/trending/US\"\n",
        "    headers = {'x-api-key': apikey}\n",
        "\n",
        "    # Fetch trending stocks\n",
        "    response = requests.get(url, headers=headers)\n",
        "    trending_json = response.json()\n",
        "\n",
        "    for stock_data in trending_json['finance']['result'][0]['quotes'][:num_stocks]:\n",
        "        stock = stock_data['symbol']\n",
        "        fetch_stock_data(stock)\n",
        "\n",
        "# Main function to drive the script\n",
        "def main():\n",
        "    user_stock = input(\"Enter stock ticker symbol: \")\n",
        "    fetch_stock_data(user_stock)\n",
        "\n",
        "    # Display trending stocks\n",
        "    get_trending_stocks()\n",
        "\n",
        "    # Save all collected stock data to CSV\n",
        "    save_to_csv()\n",
        "\n",
        "# Used built in AI to help with this part, and learned what __name__ does\n",
        "if __name__ == \"__main__\":\n",
        "    main()"
      ],
      "metadata": {
        "colab": {
          "base_uri": "https://localhost:8080/"
        },
        "id": "MphH-Iq7KaE-",
        "outputId": "42eb3520-7385-472a-c11d-d888f70077eb"
      },
      "execution_count": 5,
      "outputs": [
        {
          "output_type": "stream",
          "name": "stdout",
          "text": [
            "Enter stock ticker symbol: AAPL\n",
            "Data saved to stock_data.csv\n"
          ]
        }
      ]
    }
  ]
}