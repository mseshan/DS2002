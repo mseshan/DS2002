{
  "nbformat": 4,
  "nbformat_minor": 0,
  "metadata": {
    "colab": {
      "provenance": []
    },
    "kernelspec": {
      "name": "python3",
      "display_name": "Python 3"
    },
    "language_info": {
      "name": "python"
    }
  },
  "cells": [
    {
      "cell_type": "markdown",
      "source": [
        "Mariam Seshan sqliteHW 9/15"
      ],
      "metadata": {
        "id": "JnXNnvmhODyO"
      }
    },
    {
      "cell_type": "code",
      "source": [
        "import sqlite3\n",
        "\n",
        "connection = sqlite3.connect('student_grades.db')\n",
        "cursor = connection.cursor()\n",
        "print(\"Database connected and cursor created\")\n"
      ],
      "metadata": {
        "colab": {
          "base_uri": "https://localhost:8080/"
        },
        "id": "fLIJ-5ELOCn6",
        "outputId": "21b94433-8adc-46d8-d8cf-70bdb6b3d3b2"
      },
      "execution_count": 1,
      "outputs": [
        {
          "output_type": "stream",
          "name": "stdout",
          "text": [
            "Database connected and cursor created\n"
          ]
        }
      ]
    },
    {
      "cell_type": "code",
      "source": [
        "cursor.execute('''\n",
        "CREATE TABLE IF NOT EXISTS students (\n",
        "    student_id INTEGER PRIMARY KEY AUTOINCREMENT,\n",
        "    first_name TEXT,\n",
        "    last_name TEXT\n",
        ")\n",
        "''')\n",
        "\n",
        "print(\"Students table created\")\n"
      ],
      "metadata": {
        "colab": {
          "base_uri": "https://localhost:8080/"
        },
        "id": "yZ4HTe8VPsob",
        "outputId": "7834e726-9282-4c46-a9c3-49ec55383cde"
      },
      "execution_count": 2,
      "outputs": [
        {
          "output_type": "stream",
          "name": "stdout",
          "text": [
            "Students table created\n"
          ]
        }
      ]
    },
    {
      "cell_type": "code",
      "source": [
        "cursor.execute('''\n",
        "CREATE TABLE IF NOT EXISTS grades (\n",
        "    grade_id INTEGER PRIMARY KEY AUTOINCREMENT,\n",
        "    student_id INTEGER,\n",
        "    subject TEXT,\n",
        "    grade INTEGER,\n",
        "    FOREIGN KEY(student_id) REFERENCES students(student_id)\n",
        ")\n",
        "''')\n",
        "\n",
        "print(\"Grades table created\")\n",
        "\n",
        "connection.commit()\n"
      ],
      "metadata": {
        "colab": {
          "base_uri": "https://localhost:8080/"
        },
        "id": "fCfj64cYQU0j",
        "outputId": "ba435368-7335-4aeb-a106-0b239724f224"
      },
      "execution_count": 3,
      "outputs": [
        {
          "output_type": "stream",
          "name": "stdout",
          "text": [
            "Grades table created\n"
          ]
        }
      ]
    },
    {
      "cell_type": "code",
      "source": [
        "cursor.executemany('''\n",
        "INSERT INTO students (first_name, last_name)\n",
        "VALUES (?, ?)\n",
        "''', [\n",
        "    ('Alice', 'Johnson'),\n",
        "    ('Bob', 'Smith'),\n",
        "    ('Carol', 'White'),\n",
        "    ('David', 'Brown'),\n",
        "    ('Eve', 'Davis')\n",
        "])\n",
        "students_df['full_name'] = students_df['first_name'] + \" \" + students_df['last_name']\n",
        "students_df.head()\n",
        "\n",
        "cursor.executemany('''\n",
        "INSERT INTO grades (student_id, subject, grade)\n",
        "VALUES (?, ?, ?)\n",
        "''', [\n",
        "    # Alice (student_id = 1)\n",
        "    (1, 'Math', 95),\n",
        "    (1, 'English', 88),\n",
        "    (1, 'History', 90),\n",
        "\n",
        "    # Bob (student_id = 2)\n",
        "    (2, 'Math', 82),\n",
        "    (2, 'English', 76),\n",
        "    (2, 'History', 85),\n",
        "\n",
        "    # Carol (student_id = 3)\n",
        "    (3, 'Math', 91),\n",
        "    (3, 'English', 89),\n",
        "    (3, 'History', 92),\n",
        "\n",
        "    # Grades for David (student_id = 4)\n",
        "    (4, 'Math', 78),\n",
        "    (4, 'English', 81),\n",
        "    (4, 'History', 74),\n",
        "\n",
        "    # (student_id = 5)\n",
        "    (5, 'Math', 88),\n",
        "    (5, 'English', 92),\n",
        "    (5, 'History', 87)\n",
        "])\n",
        "\n",
        "connection.commit()\n"
      ],
      "metadata": {
        "id": "c2Oy8ZWhRdWU"
      },
      "execution_count": 48,
      "outputs": []
    },
    {
      "cell_type": "code",
      "source": [
        "#1. Retrieve all students' names and their grades.\n",
        "cursor.execute('''\n",
        "    SELECT students.first_name, students.last_name, grades.subject, grades.grade\n",
        "    FROM students\n",
        "    JOIN grades ON students.student_id = grades.student_id;\n",
        "''')\n",
        "\n",
        "results = cursor.fetchall()\n",
        "\n",
        "for row in results:\n",
        "    print(row)"
      ],
      "metadata": {
        "colab": {
          "base_uri": "https://localhost:8080/"
        },
        "id": "PFPFZTaFSRkH",
        "outputId": "88d7a2e6-71cb-46f5-b62e-50ba747af57b"
      },
      "execution_count": 49,
      "outputs": [
        {
          "output_type": "stream",
          "name": "stdout",
          "text": [
            "('Alice', 'Johnson', 'Math', 95)\n",
            "('Alice', 'Johnson', 'English', 88)\n",
            "('Alice', 'Johnson', 'History', 90)\n",
            "('Bob', 'Smith', 'Math', 82)\n",
            "('Bob', 'Smith', 'English', 76)\n",
            "('Bob', 'Smith', 'History', 85)\n",
            "('Carol', 'White', 'Math', 91)\n",
            "('Carol', 'White', 'English', 89)\n",
            "('Carol', 'White', 'History', 92)\n",
            "('David', 'Brown', 'Math', 78)\n",
            "('David', 'Brown', 'English', 81)\n",
            "('David', 'Brown', 'History', 74)\n",
            "('Eve', 'Davis', 'Math', 88)\n",
            "('Eve', 'Davis', 'English', 92)\n",
            "('Eve', 'Davis', 'History', 87)\n",
            "('Alice', 'Johnson', 'Math', 95)\n",
            "('Alice', 'Johnson', 'English', 88)\n",
            "('Alice', 'Johnson', 'History', 90)\n",
            "('Bob', 'Smith', 'Math', 82)\n",
            "('Bob', 'Smith', 'English', 76)\n",
            "('Bob', 'Smith', 'History', 85)\n",
            "('Carol', 'White', 'Math', 91)\n",
            "('Carol', 'White', 'English', 89)\n",
            "('Carol', 'White', 'History', 92)\n",
            "('David', 'Brown', 'Math', 78)\n",
            "('David', 'Brown', 'English', 81)\n",
            "('David', 'Brown', 'History', 74)\n",
            "('Eve', 'Davis', 'Math', 88)\n",
            "('Eve', 'Davis', 'English', 92)\n",
            "('Eve', 'Davis', 'History', 87)\n",
            "('Alice', 'Johnson', 'Math', 95)\n",
            "('Alice', 'Johnson', 'English', 88)\n",
            "('Alice', 'Johnson', 'History', 90)\n",
            "('Bob', 'Smith', 'Math', 82)\n",
            "('Bob', 'Smith', 'English', 76)\n",
            "('Bob', 'Smith', 'History', 85)\n",
            "('Carol', 'White', 'Math', 91)\n",
            "('Carol', 'White', 'English', 89)\n",
            "('Carol', 'White', 'History', 92)\n",
            "('David', 'Brown', 'Math', 78)\n",
            "('David', 'Brown', 'English', 81)\n",
            "('David', 'Brown', 'History', 74)\n",
            "('Eve', 'Davis', 'Math', 88)\n",
            "('Eve', 'Davis', 'English', 92)\n",
            "('Eve', 'Davis', 'History', 87)\n"
          ]
        }
      ]
    },
    {
      "cell_type": "code",
      "source": [
        "#2. Find the average grade for each student.\n",
        "cursor.execute('''\n",
        "    SELECT students.first_name, students.last_name, AVG(grades.grade) AS average_grade\n",
        "    FROM students\n",
        "    JOIN grades ON students.student_id = grades.student_id\n",
        "    GROUP BY students.student_id;\n",
        "''')\n",
        "\n",
        "results = cursor.fetchall()\n",
        "\n",
        "for row in results:\n",
        "    print(row)"
      ],
      "metadata": {
        "colab": {
          "base_uri": "https://localhost:8080/"
        },
        "id": "92jqQ1FKS1de",
        "outputId": "934e1e6d-c665-4fb4-ba53-984f30770099"
      },
      "execution_count": 50,
      "outputs": [
        {
          "output_type": "stream",
          "name": "stdout",
          "text": [
            "('Alice', 'Johnson', 91.0)\n",
            "('Bob', 'Smith', 81.0)\n",
            "('Carol', 'White', 90.66666666666667)\n",
            "('David', 'Brown', 77.66666666666667)\n",
            "('Eve', 'Davis', 89.0)\n"
          ]
        }
      ]
    },
    {
      "cell_type": "code",
      "source": [
        "#3. Find the student with the highest average grade.\n",
        "cursor.execute('''\n",
        "    SELECT students.first_name, students.last_name, AVG(grades.grade) AS average_grade\n",
        "    FROM students\n",
        "    JOIN grades ON students.student_id = grades.student_id\n",
        "    GROUP BY students.student_id\n",
        "    ORDER BY average_grade DESC\n",
        "    LIMIT 1;\n",
        "''')\n",
        "\n",
        "result = cursor.fetchone()\n",
        "print(result)\n"
      ],
      "metadata": {
        "colab": {
          "base_uri": "https://localhost:8080/"
        },
        "id": "WF2vSf_qTLv6",
        "outputId": "7e8a16c1-b173-4d40-999f-bafa115da5c2"
      },
      "execution_count": 51,
      "outputs": [
        {
          "output_type": "stream",
          "name": "stdout",
          "text": [
            "('Alice', 'Johnson', 91.0)\n"
          ]
        }
      ]
    },
    {
      "cell_type": "code",
      "source": [
        "#4. Find the average grade for the Math subject.\n",
        "cursor.execute('''\n",
        "    SELECT AVG(grades.grade) AS average_math_grade\n",
        "    FROM grades\n",
        "    WHERE grades.subject = 'Math';\n",
        "''')\n",
        "\n",
        "\n",
        "result = cursor.fetchone()\n",
        "print(result)"
      ],
      "metadata": {
        "colab": {
          "base_uri": "https://localhost:8080/"
        },
        "id": "9IrF-tbjTULU",
        "outputId": "94ace42d-1fb3-4459-9e23-1218156b3127"
      },
      "execution_count": 52,
      "outputs": [
        {
          "output_type": "stream",
          "name": "stdout",
          "text": [
            "(86.8,)\n"
          ]
        }
      ]
    },
    {
      "cell_type": "code",
      "source": [
        "#5. List all students who scored above 90 in any subject\n",
        "\n",
        "cursor.execute('''\n",
        "    SELECT students.first_name, students.last_name, grades.subject, grades.grade\n",
        "    FROM students\n",
        "    JOIN grades ON students.student_id = grades.student_id\n",
        "    WHERE grades.grade > 90;\n",
        "''')\n",
        "\n",
        "\n",
        "results = cursor.fetchall()\n",
        "\n",
        "for row in results:\n",
        "    print(row)"
      ],
      "metadata": {
        "colab": {
          "base_uri": "https://localhost:8080/"
        },
        "id": "2ZmjRTxBTib5",
        "outputId": "e31abd1f-1ef1-4eae-e667-e42366b8d2fa"
      },
      "execution_count": 53,
      "outputs": [
        {
          "output_type": "stream",
          "name": "stdout",
          "text": [
            "('Alice', 'Johnson', 'Math', 95)\n",
            "('Carol', 'White', 'Math', 91)\n",
            "('Carol', 'White', 'History', 92)\n",
            "('Eve', 'Davis', 'English', 92)\n",
            "('Alice', 'Johnson', 'Math', 95)\n",
            "('Carol', 'White', 'Math', 91)\n",
            "('Carol', 'White', 'History', 92)\n",
            "('Eve', 'Davis', 'English', 92)\n",
            "('Alice', 'Johnson', 'Math', 95)\n",
            "('Carol', 'White', 'Math', 91)\n",
            "('Carol', 'White', 'History', 92)\n",
            "('Eve', 'Davis', 'English', 92)\n"
          ]
        }
      ]
    },
    {
      "cell_type": "code",
      "source": [
        "\n",
        "import pandas as pd\n",
        "#1. Use Pandas to load the data from the students and grades tables into DataFrames.\n",
        "\n",
        "students_df = pd.read_sql_query(\"SELECT * FROM students\", connection)\n",
        "\n",
        "\n",
        "grades_df = pd.read_sql_query(\"SELECT * FROM grades\", connection)\n",
        "\n",
        "print(\"Students DataFrame:\")\n",
        "print(students_df)\n",
        "\n",
        "print(\"\\nGrades DataFrame:\")\n",
        "print(grades_df)"
      ],
      "metadata": {
        "colab": {
          "base_uri": "https://localhost:8080/"
        },
        "id": "PgTU8rt0Uz6n",
        "outputId": "8d5707b0-2528-4595-dbc2-4058625123dc"
      },
      "execution_count": 54,
      "outputs": [
        {
          "output_type": "stream",
          "name": "stdout",
          "text": [
            "Students DataFrame:\n",
            "    student_id first_name last_name\n",
            "0            1      Alice   Johnson\n",
            "1            2        Bob     Smith\n",
            "2            3      Carol     White\n",
            "3            4      David     Brown\n",
            "4            5        Eve     Davis\n",
            "5            6      Alice   Johnson\n",
            "6            7        Bob     Smith\n",
            "7            8      Carol     White\n",
            "8            9      David     Brown\n",
            "9           10        Eve     Davis\n",
            "10          11      Alice   Johnson\n",
            "11          12        Bob     Smith\n",
            "12          13      Carol     White\n",
            "13          14      David     Brown\n",
            "14          15        Eve     Davis\n",
            "\n",
            "Grades DataFrame:\n",
            "    grade_id  student_id  subject  grade\n",
            "0          1           1     Math     95\n",
            "1          2           1  English     88\n",
            "2          3           1  History     90\n",
            "3          4           2     Math     82\n",
            "4          5           2  English     76\n",
            "5          6           2  History     85\n",
            "6          7           3     Math     91\n",
            "7          8           3  English     89\n",
            "8          9           3  History     92\n",
            "9         10           4     Math     78\n",
            "10        11           4  English     81\n",
            "11        12           4  History     74\n",
            "12        13           5     Math     88\n",
            "13        14           5  English     92\n",
            "14        15           5  History     87\n",
            "15        16           1     Math     95\n",
            "16        17           1  English     88\n",
            "17        18           1  History     90\n",
            "18        19           2     Math     82\n",
            "19        20           2  English     76\n",
            "20        21           2  History     85\n",
            "21        22           3     Math     91\n",
            "22        23           3  English     89\n",
            "23        24           3  History     92\n",
            "24        25           4     Math     78\n",
            "25        26           4  English     81\n",
            "26        27           4  History     74\n",
            "27        28           5     Math     88\n",
            "28        29           5  English     92\n",
            "29        30           5  History     87\n",
            "30        31           1     Math     95\n",
            "31        32           1  English     88\n",
            "32        33           1  History     90\n",
            "33        34           2     Math     82\n",
            "34        35           2  English     76\n",
            "35        36           2  History     85\n",
            "36        37           3     Math     91\n",
            "37        38           3  English     89\n",
            "38        39           3  History     92\n",
            "39        40           4     Math     78\n",
            "40        41           4  English     81\n",
            "41        42           4  History     74\n",
            "42        43           5     Math     88\n",
            "43        44           5  English     92\n",
            "44        45           5  History     87\n"
          ]
        }
      ]
    },
    {
      "cell_type": "code",
      "source": [
        "#2. Use JOIN queries to combine the data from both tables into a single DataFrame that includes each student's name, subject, and grade.\n",
        "\n",
        "combined_df = pd.read_sql_query('''\n",
        "    SELECT students.first_name, students.last_name, grades.subject, grades.grade\n",
        "    FROM students\n",
        "    JOIN grades ON students.student_id = grades.student_id\n",
        "''', connection)\n",
        "\n",
        "print(\"\\nCombined DataFrame:\")\n",
        "print(combined_df)"
      ],
      "metadata": {
        "colab": {
          "base_uri": "https://localhost:8080/"
        },
        "id": "Au819PdOVEnC",
        "outputId": "bfb23af6-6655-41dc-d79d-3f3f872e12d3"
      },
      "execution_count": 55,
      "outputs": [
        {
          "output_type": "stream",
          "name": "stdout",
          "text": [
            "\n",
            "Combined DataFrame:\n",
            "   first_name last_name  subject  grade\n",
            "0       Alice   Johnson     Math     95\n",
            "1       Alice   Johnson  English     88\n",
            "2       Alice   Johnson  History     90\n",
            "3         Bob     Smith     Math     82\n",
            "4         Bob     Smith  English     76\n",
            "5         Bob     Smith  History     85\n",
            "6       Carol     White     Math     91\n",
            "7       Carol     White  English     89\n",
            "8       Carol     White  History     92\n",
            "9       David     Brown     Math     78\n",
            "10      David     Brown  English     81\n",
            "11      David     Brown  History     74\n",
            "12        Eve     Davis     Math     88\n",
            "13        Eve     Davis  English     92\n",
            "14        Eve     Davis  History     87\n",
            "15      Alice   Johnson     Math     95\n",
            "16      Alice   Johnson  English     88\n",
            "17      Alice   Johnson  History     90\n",
            "18        Bob     Smith     Math     82\n",
            "19        Bob     Smith  English     76\n",
            "20        Bob     Smith  History     85\n",
            "21      Carol     White     Math     91\n",
            "22      Carol     White  English     89\n",
            "23      Carol     White  History     92\n",
            "24      David     Brown     Math     78\n",
            "25      David     Brown  English     81\n",
            "26      David     Brown  History     74\n",
            "27        Eve     Davis     Math     88\n",
            "28        Eve     Davis  English     92\n",
            "29        Eve     Davis  History     87\n",
            "30      Alice   Johnson     Math     95\n",
            "31      Alice   Johnson  English     88\n",
            "32      Alice   Johnson  History     90\n",
            "33        Bob     Smith     Math     82\n",
            "34        Bob     Smith  English     76\n",
            "35        Bob     Smith  History     85\n",
            "36      Carol     White     Math     91\n",
            "37      Carol     White  English     89\n",
            "38      Carol     White  History     92\n",
            "39      David     Brown     Math     78\n",
            "40      David     Brown  English     81\n",
            "41      David     Brown  History     74\n",
            "42        Eve     Davis     Math     88\n",
            "43        Eve     Davis  English     92\n",
            "44        Eve     Davis  History     87\n"
          ]
        }
      ]
    },
    {
      "cell_type": "code",
      "source": [
        "#3. Visualize the data with Matplotlib\n",
        "#Part 1: Average grades for each student\n",
        "import matplotlib.pyplot as plt\n",
        "\n",
        "combined_df['full_name'] = combined_df['first_name'] + ' ' + combined_df['last_name']\n",
        "average_grades = combined_df.groupby('full_name')['grade'].mean()\n",
        "\n",
        "average_grades.plot(kind='bar', color='lightpink')\n",
        "\n",
        "plt.title('Average Grades for Each Student')\n",
        "plt.xlabel('Student')\n",
        "plt.ylabel('Average Grade')\n",
        "plt.xticks(rotation= 0)\n"
      ],
      "metadata": {
        "colab": {
          "base_uri": "https://localhost:8080/",
          "height": 576
        },
        "id": "zqEhqp9nVTHi",
        "outputId": "a3cfcd8b-cd85-442c-d3e0-b06d8cb4e23f"
      },
      "execution_count": 56,
      "outputs": [
        {
          "output_type": "execute_result",
          "data": {
            "text/plain": [
              "(array([0, 1, 2, 3, 4]),\n",
              " [Text(0, 0, 'Alice Johnson'),\n",
              "  Text(1, 0, 'Bob Smith'),\n",
              "  Text(2, 0, 'Carol White'),\n",
              "  Text(3, 0, 'David Brown'),\n",
              "  Text(4, 0, 'Eve Davis')])"
            ]
          },
          "metadata": {},
          "execution_count": 56
        },
        {
          "output_type": "display_data",
          "data": {
            "text/plain": [
              "<Figure size 640x480 with 1 Axes>"
            ],
            "image/png": "[encoded data removed]"
          },
          "metadata": {}
        }
      ]
    },
    {
      "cell_type": "code",
      "source": [
        "#Part 2: Create a bar chart showing the average grade for each subject\n",
        "\n",
        "average_grades_by_subject = combined_df.groupby('subject')['grade'].mean()\n",
        "\n",
        "average_grades_by_subject.plot(kind='bar', color='lightblue')\n",
        "\n",
        "plt.title('Average Grade for Each Subject')\n",
        "plt.xlabel('Subject')\n",
        "plt.ylabel('Average Grade')\n",
        "plt.xticks(rotation=0)\n"
      ],
      "metadata": {
        "colab": {
          "base_uri": "https://localhost:8080/",
          "height": 507
        },
        "id": "C5wx0kLNVplG",
        "outputId": "6dcc06a7-2586-409e-ba63-9054ad8f918a"
      },
      "execution_count": 57,
      "outputs": [
        {
          "output_type": "execute_result",
          "data": {
            "text/plain": [
              "(array([0, 1, 2]),\n",
              " [Text(0, 0, 'English'), Text(1, 0, 'History'), Text(2, 0, 'Math')])"
            ]
          },
          "metadata": {},
          "execution_count": 57
        },
        {
          "output_type": "display_data",
          "data": {
            "text/plain": [
              "<Figure size 640x480 with 1 Axes>"
            ],
            "image/png": "[encoded data removed]"
          },
          "metadata": {}
        }
      ]
    },
    {
      "cell_type": "code",
      "source": [
        "#Bonus task\n",
        "#Part 1: Implement a query that finds the student with the highest grade in each subject.\n",
        "\n",
        "import pandas as pd\n",
        "\n",
        "highest_grade_df = pd.read_sql_query('''\n",
        "    SELECT students.first_name, students.last_name, grades.subject, grades.grade\n",
        "    FROM students\n",
        "    JOIN grades ON students.student_id = grades.student_id\n",
        "    WHERE (grades.subject, grades.grade) IN (\n",
        "        SELECT subject, MAX(grade)\n",
        "        FROM grades\n",
        "        GROUP BY subject\n",
        "    );\n",
        "''', connection)\n",
        "\n",
        "print(highest_grade_df)\n"
      ],
      "metadata": {
        "colab": {
          "base_uri": "https://localhost:8080/"
        },
        "id": "MzX3KnUAEyL2",
        "outputId": "fa8fcdc6-7572-4db4-cd95-28eca038f6dd"
      },
      "execution_count": 58,
      "outputs": [
        {
          "output_type": "stream",
          "name": "stdout",
          "text": [
            "  first_name last_name  subject  grade\n",
            "0      Alice   Johnson     Math     95\n",
            "1      Carol     White  History     92\n",
            "2        Eve     Davis  English     92\n",
            "3      Alice   Johnson     Math     95\n",
            "4      Carol     White  History     92\n",
            "5        Eve     Davis  English     92\n",
            "6      Alice   Johnson     Math     95\n",
            "7      Carol     White  History     92\n",
            "8        Eve     Davis  English     92\n"
          ]
        }
      ]
    },
    {
      "cell_type": "code",
      "source": [
        "#Part 2: Visualize the results using a grouped bar chart.\n",
        "import pandas as pd\n",
        "import seaborn as sns\n",
        "import matplotlib.pyplot as plt\n",
        "\n",
        "highest_grade_df = pd.read_sql_query('''\n",
        "    SELECT students.first_name, students.last_name, grades.subject, grades.grade\n",
        "    FROM students\n",
        "    JOIN grades ON students.student_id = grades.student_id\n",
        "    WHERE grades.grade = (\n",
        "        SELECT MAX(g.grade)\n",
        "        FROM grades g\n",
        "        WHERE g.subject = grades.subject\n",
        "    );\n",
        "''', connection)\n",
        "\n",
        "highest_grade_df['full_name'] = highest_grade_df['first_name'] + ' ' + highest_grade_df['last_name']\n",
        "\n",
        "\n",
        "sns.catplot(\n",
        "    data=highest_grade_df,\n",
        "    kind=\"bar\",\n",
        "    x=\"subject\",\n",
        "    y=\"grade\",\n",
        "    hue=\"full_name\",\n",
        "    legend=True,\n",
        ").set(\n",
        "    title=\"Students with the Highest Grade in Each Subject\",\n",
        "    xlabel=\"Subject\",\n",
        "    ylabel=\"Grade\"\n",
        ")\n",
        "\n",
        "\n",
        "plt.show()"
      ],
      "metadata": {
        "colab": {
          "base_uri": "https://localhost:8080/",
          "height": 529
        },
        "id": "O1Gb0H55YxeX",
        "outputId": "eb2d088e-4eaa-435d-8231-df27bc7a1aec"
      },
      "execution_count": 59,
      "outputs": [
        {
          "output_type": "display_data",
          "data": {
            "text/plain": [
              "<Figure size 642.125x500 with 1 Axes>"
            ],
            "image/png": "[encoded data removed]"
          },
          "metadata": {}
        }
      ]
    }
  ]
}