{
  "nbformat": 4,
  "nbformat_minor": 0,
  "metadata": {
    "colab": {
      "provenance": []
    },
    "kernelspec": {
      "name": "python3",
      "display_name": "Python 3"
    },
    "language_info": {
      "name": "python"
    }
  },
  "cells": [
    {
      "cell_type": "markdown",
      "source": [
        "Mariam Seshan sqliteHW 9/15"
      ],
      "metadata": {
        "id": "JnXNnvmhODyO"
      }
    },
    {
      "cell_type": "code",
      "source": [
        "import sqlite3\n",
        "\n",
        "connection = sqlite3.connect('student_grades.db')\n",
        "cursor = connection.cursor()\n",
        "print(\"Database connected and cursor created\")\n"
      ],
      "metadata": {
        "colab": {
          "base_uri": "https://localhost:8080/"
        },
        "id": "fLIJ-5ELOCn6",
        "outputId": "21b94433-8adc-46d8-d8cf-70bdb6b3d3b2"
      },
      "execution_count": 1,
      "outputs": [
        {
          "output_type": "stream",
          "name": "stdout",
          "text": [
            "Database connected and cursor created\n"
          ]
        }
      ]
    },
    {
      "cell_type": "code",
      "source": [
        "cursor.execute('''\n",
        "CREATE TABLE IF NOT EXISTS students (\n",
        "    student_id INTEGER PRIMARY KEY AUTOINCREMENT,\n",
        "    first_name TEXT,\n",
        "    last_name TEXT\n",
        ")\n",
        "''')\n",
        "\n",
        "print(\"Students table created\")\n"
      ],
      "metadata": {
        "colab": {
          "base_uri": "https://localhost:8080/"
        },
        "id": "yZ4HTe8VPsob",
        "outputId": "7834e726-9282-4c46-a9c3-49ec55383cde"
      },
      "execution_count": 2,
      "outputs": [
        {
          "output_type": "stream",
          "name": "stdout",
          "text": [
            "Students table created\n"
          ]
        }
      ]
    },
    {
      "cell_type": "code",
      "source": [
        "cursor.execute('''\n",
        "CREATE TABLE IF NOT EXISTS grades (\n",
        "    grade_id INTEGER PRIMARY KEY AUTOINCREMENT,\n",
        "    student_id INTEGER,\n",
        "    subject TEXT,\n",
        "    grade INTEGER,\n",
        "    FOREIGN KEY(student_id) REFERENCES students(student_id)\n",
        ")\n",
        "''')\n",
        "\n",
        "print(\"Grades table created\")\n",
        "\n",
        "connection.commit()\n"
      ],
      "metadata": {
        "colab": {
          "base_uri": "https://localhost:8080/"
        },
        "id": "fCfj64cYQU0j",
        "outputId": "ba435368-7335-4aeb-a106-0b239724f224"
      },
      "execution_count": 3,
      "outputs": [
        {
          "output_type": "stream",
          "name": "stdout",
          "text": [
            "Grades table created\n"
          ]
        }
      ]
    },
    {
      "cell_type": "code",
      "source": [
        "cursor.executemany('''\n",
        "INSERT INTO students (first_name, last_name)\n",
        "VALUES (?, ?)\n",
        "''', [\n",
        "    ('Alice', 'Johnson'),\n",
        "    ('Bob', 'Smith'),\n",
        "    ('Carol', 'White'),\n",
        "    ('David', 'Brown'),\n",
        "    ('Eve', 'Davis')\n",
        "])\n",
        "\n",
        "cursor.executemany('''\n",
        "INSERT INTO grades (student_id, subject, grade)\n",
        "VALUES (?, ?, ?)\n",
        "''', [\n",
        "    # Alice (student_id = 1)\n",
        "    (1, 'Math', 95),\n",
        "    (1, 'English', 88),\n",
        "    (1, 'History', 90),\n",
        "\n",
        "    # Bob (student_id = 2)\n",
        "    (2, 'Math', 82),\n",
        "    (2, 'English', 76),\n",
        "    (2, 'History', 85),\n",
        "\n",
        "    # Carol (student_id = 3)\n",
        "    (3, 'Math', 91),\n",
        "    (3, 'English', 89),\n",
        "    (3, 'History', 92),\n",
        "\n",
        "    # Grades for David (student_id = 4)\n",
        "    (4, 'Math', 78),\n",
        "    (4, 'English', 81),\n",
        "    (4, 'History', 74),\n",
        "\n",
        "    # (student_id = 5)\n",
        "    (5, 'Math', 88),\n",
        "    (5, 'English', 92),\n",
        "    (5, 'History', 87)\n",
        "])\n",
        "\n",
        "connection.commit()\n"
      ],
      "metadata": {
        "id": "c2Oy8ZWhRdWU"
      },
      "execution_count": 4,
      "outputs": []
    },
    {
      "cell_type": "code",
      "source": [
        "#1. Retrieve all students' names and their grades.\n",
        "cursor.execute('''\n",
        "    SELECT students.first_name, students.last_name, grades.subject, grades.grade\n",
        "    FROM students\n",
        "    JOIN grades ON students.student_id = grades.student_id;\n",
        "''')\n",
        "\n",
        "results = cursor.fetchall()\n",
        "\n",
        "for row in results:\n",
        "    print(row)"
      ],
      "metadata": {
        "colab": {
          "base_uri": "https://localhost:8080/"
        },
        "id": "PFPFZTaFSRkH",
        "outputId": "fdeb837b-9519-4497-f7a7-234ead0d0a88"
      },
      "execution_count": 5,
      "outputs": [
        {
          "output_type": "stream",
          "name": "stdout",
          "text": [
            "('Alice', 'Johnson', 'Math', 95)\n",
            "('Alice', 'Johnson', 'English', 88)\n",
            "('Alice', 'Johnson', 'History', 90)\n",
            "('Bob', 'Smith', 'Math', 82)\n",
            "('Bob', 'Smith', 'English', 76)\n",
            "('Bob', 'Smith', 'History', 85)\n",
            "('Carol', 'White', 'Math', 91)\n",
            "('Carol', 'White', 'English', 89)\n",
            "('Carol', 'White', 'History', 92)\n",
            "('David', 'Brown', 'Math', 78)\n",
            "('David', 'Brown', 'English', 81)\n",
            "('David', 'Brown', 'History', 74)\n",
            "('Eve', 'Davis', 'Math', 88)\n",
            "('Eve', 'Davis', 'English', 92)\n",
            "('Eve', 'Davis', 'History', 87)\n"
          ]
        }
      ]
    },
    {
      "cell_type": "code",
      "source": [
        "#2. Find the average grade for each student.\n",
        "cursor.execute('''\n",
        "    SELECT students.first_name, students.last_name, AVG(grades.grade) AS average_grade\n",
        "    FROM students\n",
        "    JOIN grades ON students.student_id = grades.student_id\n",
        "    GROUP BY students.student_id;\n",
        "''')\n",
        "\n",
        "results = cursor.fetchall()\n",
        "\n",
        "for row in results:\n",
        "    print(row)"
      ],
      "metadata": {
        "colab": {
          "base_uri": "https://localhost:8080/"
        },
        "id": "92jqQ1FKS1de",
        "outputId": "576e41aa-4f20-4ae1-ce9b-e42fde4086b0"
      },
      "execution_count": 6,
      "outputs": [
        {
          "output_type": "stream",
          "name": "stdout",
          "text": [
            "('Alice', 'Johnson', 91.0)\n",
            "('Bob', 'Smith', 81.0)\n",
            "('Carol', 'White', 90.66666666666667)\n",
            "('David', 'Brown', 77.66666666666667)\n",
            "('Eve', 'Davis', 89.0)\n"
          ]
        }
      ]
    },
    {
      "cell_type": "code",
      "source": [
        "#3. Find the student with the highest average grade.\n",
        "cursor.execute('''\n",
        "    SELECT students.first_name, students.last_name, AVG(grades.grade) AS average_grade\n",
        "    FROM students\n",
        "    JOIN grades ON students.student_id = grades.student_id\n",
        "    GROUP BY students.student_id\n",
        "    ORDER BY average_grade DESC\n",
        "    LIMIT 1;\n",
        "''')\n",
        "\n",
        "result = cursor.fetchone()\n",
        "print(result)\n"
      ],
      "metadata": {
        "colab": {
          "base_uri": "https://localhost:8080/"
        },
        "id": "WF2vSf_qTLv6",
        "outputId": "be949a88-9f23-4a03-d20e-5fe384146b1a"
      },
      "execution_count": 7,
      "outputs": [
        {
          "output_type": "stream",
          "name": "stdout",
          "text": [
            "('Alice', 'Johnson', 91.0)\n"
          ]
        }
      ]
    },
    {
      "cell_type": "code",
      "source": [
        "#4. Find the average grade for the Math subject.\n",
        "cursor.execute('''\n",
        "    SELECT AVG(grades.grade) AS average_math_grade\n",
        "    FROM grades\n",
        "    WHERE grades.subject = 'Math';\n",
        "''')\n",
        "\n",
        "\n",
        "result = cursor.fetchone()\n",
        "print(result)"
      ],
      "metadata": {
        "colab": {
          "base_uri": "https://localhost:8080/"
        },
        "id": "9IrF-tbjTULU",
        "outputId": "a394a713-725f-44af-f6f1-baeb96dcfc0e"
      },
      "execution_count": 8,
      "outputs": [
        {
          "output_type": "stream",
          "name": "stdout",
          "text": [
            "(86.8,)\n"
          ]
        }
      ]
    },
    {
      "cell_type": "code",
      "source": [
        "#5. List all students who scored above 90 in any subject\n",
        "\n",
        "cursor.execute('''\n",
        "    SELECT students.first_name, students.last_name, grades.subject, grades.grade\n",
        "    FROM students\n",
        "    JOIN grades ON students.student_id = grades.student_id\n",
        "    WHERE grades.grade > 90;\n",
        "''')\n",
        "\n",
        "\n",
        "results = cursor.fetchall()\n",
        "\n",
        "for row in results:\n",
        "    print(row)"
      ],
      "metadata": {
        "colab": {
          "base_uri": "https://localhost:8080/"
        },
        "id": "2ZmjRTxBTib5",
        "outputId": "c162c9a4-39e6-4736-e013-1006c2f3db44"
      },
      "execution_count": 9,
      "outputs": [
        {
          "output_type": "stream",
          "name": "stdout",
          "text": [
            "('Alice', 'Johnson', 'Math', 95)\n",
            "('Carol', 'White', 'Math', 91)\n",
            "('Carol', 'White', 'History', 92)\n",
            "('Eve', 'Davis', 'English', 92)\n"
          ]
        }
      ]
    },
    {
      "cell_type": "code",
      "source": [
        "\n",
        "import pandas as pd\n",
        "#1. Use Pandas to load the data from the students and grades tables into DataFrames.\n",
        "\n",
        "students_df = pd.read_sql_query(\"SELECT * FROM students\", connection)\n",
        "\n",
        "\n",
        "grades_df = pd.read_sql_query(\"SELECT * FROM grades\", connection)\n",
        "\n",
        "print(\"Students DataFrame:\")\n",
        "print(students_df)\n",
        "\n",
        "print(\"\\nGrades DataFrame:\")\n",
        "print(grades_df)"
      ],
      "metadata": {
        "colab": {
          "base_uri": "https://localhost:8080/"
        },
        "id": "PgTU8rt0Uz6n",
        "outputId": "f127c51f-ea75-4f85-c439-227dc5a28c4a"
      },
      "execution_count": 10,
      "outputs": [
        {
          "output_type": "stream",
          "name": "stdout",
          "text": [
            "Students DataFrame:\n",
            "   student_id first_name last_name\n",
            "0           1      Alice   Johnson\n",
            "1           2        Bob     Smith\n",
            "2           3      Carol     White\n",
            "3           4      David     Brown\n",
            "4           5        Eve     Davis\n",
            "\n",
            "Grades DataFrame:\n",
            "    grade_id  student_id  subject  grade\n",
            "0          1           1     Math     95\n",
            "1          2           1  English     88\n",
            "2          3           1  History     90\n",
            "3          4           2     Math     82\n",
            "4          5           2  English     76\n",
            "5          6           2  History     85\n",
            "6          7           3     Math     91\n",
            "7          8           3  English     89\n",
            "8          9           3  History     92\n",
            "9         10           4     Math     78\n",
            "10        11           4  English     81\n",
            "11        12           4  History     74\n",
            "12        13           5     Math     88\n",
            "13        14           5  English     92\n",
            "14        15           5  History     87\n"
          ]
        }
      ]
    },
    {
      "cell_type": "code",
      "source": [
        "#2. Use JOIN queries to combine the data from both tables into a single DataFrame that includes each student's name, subject, and grade.\n",
        "\n",
        "combined_df = pd.read_sql_query('''\n",
        "    SELECT students.first_name, students.last_name, grades.subject, grades.grade\n",
        "    FROM students\n",
        "    JOIN grades ON students.student_id = grades.student_id\n",
        "''', connection)\n",
        "\n",
        "print(\"\\nCombined DataFrame:\")\n",
        "print(combined_df)"
      ],
      "metadata": {
        "colab": {
          "base_uri": "https://localhost:8080/"
        },
        "id": "Au819PdOVEnC",
        "outputId": "02c43b27-f7db-489a-bfb5-481603bebf25"
      },
      "execution_count": 11,
      "outputs": [
        {
          "output_type": "stream",
          "name": "stdout",
          "text": [
            "\n",
            "Combined DataFrame:\n",
            "   first_name last_name  subject  grade\n",
            "0       Alice   Johnson     Math     95\n",
            "1       Alice   Johnson  English     88\n",
            "2       Alice   Johnson  History     90\n",
            "3         Bob     Smith     Math     82\n",
            "4         Bob     Smith  English     76\n",
            "5         Bob     Smith  History     85\n",
            "6       Carol     White     Math     91\n",
            "7       Carol     White  English     89\n",
            "8       Carol     White  History     92\n",
            "9       David     Brown     Math     78\n",
            "10      David     Brown  English     81\n",
            "11      David     Brown  History     74\n",
            "12        Eve     Davis     Math     88\n",
            "13        Eve     Davis  English     92\n",
            "14        Eve     Davis  History     87\n"
          ]
        }
      ]
    },
    {
      "cell_type": "code",
      "source": [
        "#3. Visualize the data with Matplotlib\n",
        "import matplotlib.pyplot as plt\n",
        "\n",
        "average_grades = combined_df.groupby(['first_name', 'last_name'])['grade'].mean()\n",
        "\n",
        "#Part 1: Plot the average grades for each student\n",
        "average_grades.plot(kind='bar', figsize=(10, 6), color='lightpink')\n",
        "\n",
        "plt.title('Average Grades for Each Student')\n",
        "plt.xlabel('Student')\n",
        "plt.ylabel('Average Grade')\n",
        "plt.xticks(rotation=45, ha='right')\n",
        "plt.tight_layout()\n",
        "plt.show()"
      ],
      "metadata": {
        "colab": {
          "base_uri": "https://localhost:8080/",
          "height": 607
        },
        "id": "zqEhqp9nVTHi",
        "outputId": "cab82447-d23c-470d-981d-56b5730b1983"
      },
      "execution_count": 12,
      "outputs": [
        {
          "output_type": "display_data",
          "data": {
            "text/plain": [
              "<Figure size 1000x600 with 1 Axes>"
            ],
            "image/png": "[encoded data removed]"
          },
          "metadata": {}
        }
      ]
    },
    {
      "cell_type": "code",
      "source": [
        "#Part 2: Create a bar chart showing the average grade for each subject\n",
        "\n",
        "average_grades_by_subject = combined_df.groupby('subject')['grade'].mean()\n",
        "\n",
        "average_grades_by_subject.plot(kind='bar', figsize=(10, 6), color='lightblue')\n",
        "\n",
        "plt.title('Average Grade for Each Subject')\n",
        "plt.xlabel('Subject')\n",
        "plt.ylabel('Average Grade')\n",
        "plt.xticks(rotation=0)\n",
        "plt.tight_layout()\n",
        "plt.show()"
      ],
      "metadata": {
        "colab": {
          "base_uri": "https://localhost:8080/",
          "height": 607
        },
        "id": "C5wx0kLNVplG",
        "outputId": "04f84b74-9696-47c5-82ac-dc692bf64243"
      },
      "execution_count": 13,
      "outputs": [
        {
          "output_type": "display_data",
          "data": {
            "text/plain": [
              "<Figure size 1000x600 with 1 Axes>"
            ],
            "image/png": "[encoded data removed]"
          },
          "metadata": {}
        }
      ]
    },
    {
      "cell_type": "code",
      "source": [
        "#Bonus task\n",
        "#Part 1: Implement a query that finds the student with the highest grade in each subject.\n",
        "\n",
        "import pandas as pd\n",
        "\n",
        "highest_grade_df = pd.read_sql_query('''\n",
        "    SELECT students.first_name, students.last_name, grades.subject, grades.grade\n",
        "    FROM students\n",
        "    JOIN grades ON students.student_id = grades.student_id\n",
        "    WHERE (grades.subject, grades.grade) IN (\n",
        "        SELECT subject, MAX(grade)\n",
        "        FROM grades\n",
        "        GROUP BY subject\n",
        "    );\n",
        "''', connection)\n",
        "\n",
        "print(highest_grade_df)\n"
      ],
      "metadata": {
        "colab": {
          "base_uri": "https://localhost:8080/"
        },
        "id": "MzX3KnUAEyL2",
        "outputId": "396e8026-d14f-44ae-8175-9f1a95312dd1"
      },
      "execution_count": 18,
      "outputs": [
        {
          "output_type": "stream",
          "name": "stdout",
          "text": [
            "  first_name last_name  subject  grade\n",
            "0      Alice   Johnson     Math     95\n",
            "1      Carol     White  History     92\n",
            "2        Eve     Davis  English     92\n"
          ]
        }
      ]
    },
    {
      "cell_type": "code",
      "source": [
        "#Part 2: Visualize the results using a grouped bar chart.\n",
        "import matplotlib.pyplot as plt\n",
        "\n",
        "#Data part:\n",
        "subjects = highest_grade_df['subject']\n",
        "grades = highest_grade_df['grade']\n",
        "students = highest_grade_df['first_name'] + ' ' + highest_grade_df['last_name']\n",
        "\n",
        "#Plot part:\n",
        "fig, ax = plt.subplots(figsize=(10, 6))\n",
        "\n",
        "#Making the bar chart part:\n",
        "ax.bar(subjects, grades, color='lightgreen')\n",
        "\n",
        "#Labels part:\n",
        "for i, grade in enumerate(grades):\n",
        "    ax.text(i, grade + 0.5, students[i], ha='center')\n",
        "\n",
        "#Titles:\n",
        "plt.title('Students with the Highest Grade in Each Subject')\n",
        "plt.xlabel('Subject')\n",
        "plt.ylabel('Grade')\n",
        "plt.xticks(rotation=45, ha='right')\n",
        "plt.tight_layout()\n",
        "\n",
        "\n",
        "plt.show()"
      ],
      "metadata": {
        "colab": {
          "base_uri": "https://localhost:8080/",
          "height": 607
        },
        "id": "zZacqg-6FdFk",
        "outputId": "2a075ca9-baa0-4932-b8ed-52612f555565"
      },
      "execution_count": 22,
      "outputs": [
        {
          "output_type": "display_data",
          "data": {
            "text/plain": [
              "<Figure size 1000x600 with 1 Axes>"
            ],
            "image/png": "[encoded data removed]"
          },
          "metadata": {}
        }
      ]
    }
  ]
}